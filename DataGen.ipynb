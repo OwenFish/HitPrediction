{
 "cells": [
  {
   "cell_type": "code",
   "execution_count": 1,
   "metadata": {},
   "outputs": [],
   "source": [
    "import pandas as pd\n",
    "import numpy as np\n",
    "import statsapi\n",
    "import os\n",
    "from tqdm import tqdm\n",
    "import pickle"
   ]
  },
  {
   "cell_type": "code",
   "execution_count": 2,
   "metadata": {},
   "outputs": [],
   "source": [
    "# Retrosheet Player ID's to name\n",
    "names = {}\n",
    "with open(\"names.csv\", 'r') as f:\n",
    "    for line in f:\n",
    "        line = line.strip().split(',')\n",
    "        names[line[0]] = f\"{line[2]} {line[1]}\"\n",
    "        \n",
    "        \n",
    "IDS = {}\n",
    "with open(\"ids.csv\", 'r') as f:\n",
    "    \n",
    "    for line in f:\n",
    "        line = line.strip().split(',')\n",
    "        if line[1] not in IDS.keys():\n",
    "            IDS[line[1]] = line[0]"
   ]
  },
  {
   "cell_type": "code",
   "execution_count": null,
   "metadata": {},
   "outputs": [],
   "source": []
  },
  {
   "cell_type": "code",
   "execution_count": 3,
   "metadata": {},
   "outputs": [],
   "source": [
    "# Get all data files\n",
    "TEAMS = [\"ANA\",\"ARI\",\"ATL\",\"BAL\",\"BOS\",\"CHA\",\"CHN\",\"CIN\",\"CLE\",\"COL\",\"DET\",\"HOU\",\"KCA\",\"LAN\",\"MIA\",\"MIL\",\"MIN\",\"NYA\",\\\n",
    "\"NYN\",\"OAK\",\"PHI\",\"PIT\",\"SDN\",\"SEA\",\"SFN\",\"SLN\",\"TBA\",\"TEX\",\"TOR\",\"WAS\"]\n",
    "\n",
    "AMERICAN = [\"ANA\", \"BAL\", \"BOS\", \"CHA\", \"CLE\", \"DET\", \"HOU\", \"KCA\", \"MIN\", \"NYA\", \"OAK\", \"SEA\", \"TBA\", \"TEX\", \"TOR\"]\n",
    "\n",
    "YEARS = [str(yr) for yr in range(2018, 2020)]\n",
    "\n",
    "\n",
    "files = []\n",
    "for y in YEARS:\n",
    "    for t in TEAMS:\n",
    "        if t in AMERICAN:\n",
    "            file = f\"Data/{y}{t}.EVA\"\n",
    "        else:\n",
    "            file = f\"Data/{y}{t}.EVN\"\n",
    "            \n",
    "        if not os.path.exists(file):\n",
    "            print(\"404:\", file)\n",
    "        else:\n",
    "            files.append(file)"
   ]
  },
  {
   "cell_type": "code",
   "execution_count": 4,
   "metadata": {},
   "outputs": [
    {
     "name": "stderr",
     "output_type": "stream",
     "text": [
      "100%|██████████| 60/60 [00:01<00:00, 58.94it/s]\n"
     ]
    }
   ],
   "source": [
    "# turn data files into array of at-bats \n",
    "atBats = []\n",
    "\n",
    "\n",
    "for FILENAME in tqdm(files):\n",
    "    f = open(FILENAME, 'r')\n",
    "    homePitcher = None\n",
    "    awayPitcher = None\n",
    "    gameCtr = 0\n",
    "\n",
    "\n",
    "    for line in f:\n",
    "        line = line.strip().split(',')\n",
    "\n",
    "        #newGame\n",
    "        if line[0] == 'id':\n",
    "            gameCtr += 1\n",
    "            date = line[1][7:9] + '/' + line[1][9:11]\n",
    "            year = line[1][3:7]\n",
    "\n",
    "        #starting pitcher\n",
    "        if line[0] == 'start' and line[-1] == '1':\n",
    "            if line[-3] == '0':\n",
    "                awayPitcher = line[1]\n",
    "            elif line[-3] == '1':\n",
    "                homePitcher = line[1]\n",
    "                \n",
    "\n",
    "        #Pitching change\n",
    "        if line[0] == 'sub' and line[5] == '1':\n",
    "                \n",
    "            if line[3] == '1':\n",
    "                homePitcher = line[1]\n",
    "            elif line[3] == '0':\n",
    "                awayPitcher = line[1]\n",
    "\n",
    "        #Batter\n",
    "        # if line[2] == 0\n",
    "        if line[0] == 'play':\n",
    "            batter = line[3]\n",
    "            \n",
    "            if line[2] == \"0\":\n",
    "                pitcher = homePitcher\n",
    "            elif line[2] == \"1\":\n",
    "                pitcher = awayPitcher\n",
    "\n",
    "        #Hit or not\n",
    "            if line[-1][0] in [\"S\", 'D', 'T', 'H'] or line[-1][0:2] == 'HR':\n",
    "                hit = True\n",
    "            elif line[-1][0] in [\"1\", \"2\", \"3\", \"4\", \"5\", \"6\", \"7\", \"8\", \"9\"]:\n",
    "                hit = False\n",
    "            else:\n",
    "                hit = \"skip\"\n",
    "\n",
    "            #print(f\"Matchup: {batter} vs {pitcher} -- result: {event}\")\n",
    "            if hit != \"skip\":\n",
    "                atBats.append((names[batter], names[pitcher], int(hit), date, year))\n",
    "                \n",
    "atBats = np.array(atBats)"
   ]
  },
  {
   "cell_type": "code",
   "execution_count": 5,
   "metadata": {},
   "outputs": [],
   "source": [
    "def getHittingData(batterID):\n",
    "    try:\n",
    "        r = statsapi.player_stat_data(batterID, group=\"hitting\", type='career')['stats'][0]['stats']\n",
    "        return [r['avg'], r['slg'], r['strikeOuts']]\n",
    "    except IndexError:\n",
    "        return None\n",
    "    \n",
    "def getPitchingData(pitcherID):\n",
    "    try:\n",
    "        r = statsapi.player_stat_data(pitcherID, group=\"pitching\", type='career')['stats'][0]['stats']\n",
    "        return [r['avg'], r['obp'], r['homeRunsPer9']]\n",
    "    except IndexError:\n",
    "        return None\n",
    "\n",
    "        "
   ]
  },
  {
   "cell_type": "code",
   "execution_count": 6,
   "metadata": {},
   "outputs": [
    {
     "name": "stderr",
     "output_type": "stream",
     "text": [
      "100%|██████████| 256571/256571 [31:08<00:00, 137.34it/s] \n",
      " 97%|█████████▋| 248584/256571 [31:08<01:00, 133.07it/s]\n"
     ]
    }
   ],
   "source": [
    "statsData = []\n",
    "target = []\n",
    "battingStats = {}\n",
    "pitchingStats = {}\n",
    "\n",
    "with tqdm(total=len(atBats), position=0, leave=True) as pbar:\n",
    "    for ab in tqdm(atBats, position=0, leave=True):\n",
    "        try:\n",
    "            batterID = IDS[ab[0]]\n",
    "            pitcherID = IDS[ab[1]]\n",
    "            outcome = ab[2]\n",
    "\n",
    "            if batterID not in battingStats.keys():\n",
    "                battingStats[batterID] = getHittingData(batterID)\n",
    "            if pitcherID not in pitchingStats.keys():\n",
    "                pitchingStats[pitcherID] = getPitchingData(pitcherID)\n",
    "\n",
    "\n",
    "            if battingStats[batterID] is None or pitchingStats[pitcherID] is None:\n",
    "                continue\n",
    "            else:\n",
    "                statsData.append(battingStats[batterID] + pitchingStats[pitcherID])\n",
    "                target.append(outcome)\n",
    "          \n",
    "            pbar.update()\n",
    "\n",
    "        except KeyError:\n",
    "            try:\n",
    "                IDS[ab[0]] = statsapi.lookup_player(ab[0], season=ab[4])[0]['id']\n",
    "            except IndexError:\n",
    "                continue\n",
    "    "
   ]
  },
  {
   "cell_type": "code",
   "execution_count": 7,
   "metadata": {},
   "outputs": [],
   "source": [
    "data = np.array(statsData)\n",
    "target = np.array(target)\n",
    "\n",
    "with open(\"Serialized/data.p\", \"wb\") as f:\n",
    "    pickle.dump(data, f)\n",
    "    \n",
    "with open('Serialized/target.p', 'wb') as f:\n",
    "    pickle.dump(target, f)"
   ]
  },
  {
   "cell_type": "code",
   "execution_count": null,
   "metadata": {},
   "outputs": [],
   "source": []
  }
 ],
 "metadata": {
  "kernelspec": {
   "display_name": "Python 3",
   "language": "python",
   "name": "python3"
  },
  "language_info": {
   "codemirror_mode": {
    "name": "ipython",
    "version": 3
   },
   "file_extension": ".py",
   "mimetype": "text/x-python",
   "name": "python",
   "nbconvert_exporter": "python",
   "pygments_lexer": "ipython3",
   "version": "3.7.1"
  }
 },
 "nbformat": 4,
 "nbformat_minor": 4
}
